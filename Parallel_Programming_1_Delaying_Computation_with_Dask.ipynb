{
  "nbformat": 4,
  "nbformat_minor": 0,
  "metadata": {
    "colab": {
      "name": "Parallel Programming 1. Delaying Computation with Dask.ipynb",
      "provenance": [],
      "collapsed_sections": [],
      "authorship_tag": "ABX9TyMA/9vtuF4KNditFSqLGFU8",
      "include_colab_link": true
    },
    "kernelspec": {
      "name": "python3",
      "display_name": "Python 3"
    }
  },
  "cells": [
    {
      "cell_type": "markdown",
      "metadata": {
        "id": "view-in-github",
        "colab_type": "text"
      },
      "source": [
        "<a href=\"https://colab.research.google.com/github/teigoonishi/teigoonishi.github.io/blob/master/Parallel_Programming_1_Delaying_Computation_with_Dask.ipynb\" target=\"_parent\"><img src=\"https://colab.research.google.com/assets/colab-badge.svg\" alt=\"Open In Colab\"/></a>"
      ]
    },
    {
      "cell_type": "code",
      "metadata": {
        "id": "D0hKcQrnuI_y"
      },
      "source": [
        "from math import sqrt\n",
        "def f(z):\n",
        "  return sqrt(z+4)\n",
        "\n",
        "def g(y):\n",
        "  return y - 3\n",
        "\n",
        "def h(x):\n",
        "  return x ** 2"
      ],
      "execution_count": null,
      "outputs": []
    },
    {
      "cell_type": "code",
      "metadata": {
        "colab": {
          "base_uri": "https://localhost:8080/"
        },
        "id": "Z5XJAnA7uvyp",
        "outputId": "84dfde61-edcc-4d99-e17c-ff91b833a1ef"
      },
      "source": [
        "x = 4\n",
        "\n",
        "from dask import delayed\n",
        "y = delayed(h)(x)\n",
        "z = delayed(g)(y)\n",
        "w = delayed(f)(z)\n",
        "print(w)\n",
        "\n",
        "# w= dask delayed object\n",
        "type(w)"
      ],
      "execution_count": null,
      "outputs": [
        {
          "output_type": "stream",
          "text": [
            "Delayed('f-06c0449d-2d3b-4fab-9d8b-b5a0a83f7ebf')\n"
          ],
          "name": "stdout"
        },
        {
          "output_type": "execute_result",
          "data": {
            "text/plain": [
              "dask.delayed.Delayed"
            ]
          },
          "metadata": {
            "tags": []
          },
          "execution_count": 7
        }
      ]
    },
    {
      "cell_type": "code",
      "metadata": {
        "colab": {
          "base_uri": "https://localhost:8080/"
        },
        "id": "45PKUj8bvMQi",
        "outputId": "34f7b446-ce82-4c03-a80a-2267fc2d43a3"
      },
      "source": [
        "# computed\n",
        "w.compute()"
      ],
      "execution_count": null,
      "outputs": [
        {
          "output_type": "execute_result",
          "data": {
            "text/plain": [
              "4.123105625617661"
            ]
          },
          "metadata": {
            "tags": []
          },
          "execution_count": 8
        }
      ]
    },
    {
      "cell_type": "code",
      "metadata": {
        "colab": {
          "base_uri": "https://localhost:8080/",
          "height": 555
        },
        "id": "IMswfu3_vR80",
        "outputId": "27d89847-c31f-42a0-bc1c-a594cac9d1ba"
      },
      "source": [
        "w.visualize()"
      ],
      "execution_count": null,
      "outputs": [
        {
          "output_type": "execute_result",
          "data": {
            "image/png": "[encoded data removed]",
            "text/plain": [
              "<IPython.core.display.Image object>"
            ]
          },
          "metadata": {
            "tags": []
          },
          "execution_count": 9
        }
      ]
    },
    {
      "cell_type": "code",
      "metadata": {
        "colab": {
          "base_uri": "https://localhost:8080/"
        },
        "id": "oLkzb2irvaeY",
        "outputId": "f5ab7726-27cf-417f-a143-d99ebe072b97"
      },
      "source": [
        "f = delayed(f)\n",
        "g = delayed(g)\n",
        "h = delayed(h)\n",
        "w = f( g( h(4) ) )\n",
        "\n",
        "type(w) # a dask delayed object"
      ],
      "execution_count": null,
      "outputs": [
        {
          "output_type": "execute_result",
          "data": {
            "text/plain": [
              "dask.delayed.Delayed"
            ]
          },
          "metadata": {
            "tags": []
          },
          "execution_count": 15
        }
      ]
    },
    {
      "cell_type": "code",
      "metadata": {
        "colab": {
          "base_uri": "https://localhost:8080/"
        },
        "id": "hd_DspUJvulV",
        "outputId": "e23bde0e-b4d8-4a05-b216-39e0181c6f84"
      },
      "source": [
        "w.compute() # Computation occurs now"
      ],
      "execution_count": null,
      "outputs": [
        {
          "output_type": "execute_result",
          "data": {
            "text/plain": [
              "4.123105625617661"
            ]
          },
          "metadata": {
            "tags": []
          },
          "execution_count": 16
        }
      ]
    },
    {
      "cell_type": "code",
      "metadata": {
        "id": "RJEI9U3lwMcR"
      },
      "source": [
        "template = 'yellow_tripdata_2015-{:02d}.csv'\n",
        "filenames = [template.format(k) for k in range(1,13)]\n",
        "\n",
        "@delayed\n",
        "  def count_long_trips(df):\n",
        "    df['duration'] = (df.tpep_dropoff_datetime - \n",
        "                      df.tpep_pickupp_datetime).dt.seconds)\n",
        "    is_long_trip = df.duraton > 1200\n",
        "    result_dict = {'n_long':[sum(is_long_trip)],\n",
        "                   'n_total':[len(df)]}\n",
        "    return pd.DataFrame(result_dict)\n",
        "\n",
        "@delayed\n",
        "  def read_file(fname):\n",
        "    return pd.read_csv(fname, parse_dates=[1,2])\n",
        "\n",
        "totals = [count_long_trips(read_file(fname)) for fname in filenames]\n",
        "annual_totals = sum(totals)\n",
        "annual_totals = annual_totals.compute()"
      ],
      "execution_count": null,
      "outputs": []
    },
    {
      "cell_type": "markdown",
      "metadata": {
        "id": "IluzdbIXw2b-"
      },
      "source": [
        ""
      ]
    }
  ]
}